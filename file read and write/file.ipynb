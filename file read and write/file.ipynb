{
 "cells": [
  {
   "cell_type": "code",
   "execution_count": 1,
   "metadata": {},
   "outputs": [],
   "source": [
    "def read_and_write_file(input_file, output_file):\n",
    "    \"\"\"\n",
    "    Reads a file, modifies its content, and writes to a new file.\n",
    "\n",
    "    Parameters:\n",
    "    - input_file: str, the name of the input file\n",
    "    - output_file: str, the name of the output file\n",
    "    \"\"\"\n",
    "    try:\n",
    "        # Open the input file and read its content\n",
    "        with open(input_file, 'r') as infile:\n",
    "            content = infile.read()\n",
    "        \n",
    "        # Modify the content (e.g., convert to uppercase)\n",
    "        modified_content = content.upper()\n",
    "        \n",
    "        # Open the output file and write the modified content\n",
    "        with open(output_file, 'w') as outfile:\n",
    "            outfile.write(modified_content)\n",
    "        \n",
    "        print(f\"Modified content has been written to '{output_file}'.\")\n",
    "    \n",
    "    except FileNotFoundError:\n",
    "        print(f\"The file '{input_file}' does not exist.\")\n",
    "    except Exception as e:\n",
    "        print(f\"An error occurred: {e}\")\n"
   ]
  },
  {
   "cell_type": "code",
   "execution_count": 2,
   "metadata": {},
   "outputs": [],
   "source": [
    "# Example usage\n",
    "input_file = 'input.txt'  # Replace with the name of your input file\n",
    "output_file = 'output.txt'  # Replace with the name of your output file\n"
   ]
  },
  {
   "cell_type": "code",
   "execution_count": 6,
   "metadata": {},
   "outputs": [],
   "source": [
    "# Example: Writing sample content to the input file\n",
    "with open(input_file, 'w') as f:\n",
    "    f.write(\"This is a sample file content.\")\n",
    " \n"
   ]
  },
  {
   "cell_type": "code",
   "execution_count": 4,
   "metadata": {},
   "outputs": [
    {
     "name": "stdout",
     "output_type": "stream",
     "text": [
      "Modified content has been written to 'output.txt'.\n",
      "Content in the output file: THIS IS A SAMPLE FILE CONTENT.\n"
     ]
    }
   ],
   "source": [
    "# Call the function\n",
    "read_and_write_file(input_file, output_file)\n",
    "\n",
    "# Verify the output by reading the new file\n",
    "with open(output_file, 'r') as f:\n",
    "    print(\"Content in the output file:\", f.read())"
   ]
  }
 ],
 "metadata": {
  "kernelspec": {
   "display_name": "Python 3",
   "language": "python",
   "name": "python3"
  },
  "language_info": {
   "codemirror_mode": {
    "name": "ipython",
    "version": 3
   },
   "file_extension": ".py",
   "mimetype": "text/x-python",
   "name": "python",
   "nbconvert_exporter": "python",
   "pygments_lexer": "ipython3",
   "version": "3.12.7"
  }
 },
 "nbformat": 4,
 "nbformat_minor": 2
}
